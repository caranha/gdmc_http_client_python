{
 "cells": [
  {
   "cell_type": "code",
   "execution_count": 1,
   "metadata": {},
   "outputs": [],
   "source": [
    "from worldLoader import WorldSlice\n",
    "import interfaceUtils\n",
    "import commandUtils"
   ]
  },
  {
   "cell_type": "code",
   "execution_count": 110,
   "metadata": {},
   "outputs": [
    {
     "data": {
      "text/plain": [
       "(576, 2828, 64, 64)"
      ]
     },
     "execution_count": 110,
     "metadata": {},
     "output_type": "execute_result"
    }
   ],
   "source": [
    "buildarea = commandUtils.makeBuildArea(64, 64)\n",
    "buildarea"
   ]
  },
  {
   "cell_type": "code",
   "execution_count": 111,
   "metadata": {},
   "outputs": [
    {
     "name": "stdout",
     "output_type": "stream",
     "text": [
      "getting chunks 36 176 4 5 \n",
      "request url: http://localhost:9000/chunks?x=36&z=176&dx=4&dz=5\n",
      "result: 200\n",
      "parsing NBT\n",
      "extracting heightmaps\n",
      "extracting chunk sections\n",
      "done\n"
     ]
    }
   ],
   "source": [
    "ws = WorldSlice(buildarea)"
   ]
  },
  {
   "cell_type": "code",
   "execution_count": 96,
   "metadata": {},
   "outputs": [
    {
     "ename": "IndexError",
     "evalue": "list index out of range",
     "output_type": "error",
     "traceback": [
      "\u001b[0;31m---------------------------------------------------------------------------\u001b[0m",
      "\u001b[0;31mIndexError\u001b[0m                                Traceback (most recent call last)",
      "\u001b[0;32m<ipython-input-96-ea39dce64f14>\u001b[0m in \u001b[0;36m<module>\u001b[0;34m\u001b[0m\n\u001b[1;32m      1\u001b[0m \u001b[0;31m# Get information about one block\u001b[0m\u001b[0;34m\u001b[0m\u001b[0;34m\u001b[0m\u001b[0;34m\u001b[0m\u001b[0m\n\u001b[0;32m----> 2\u001b[0;31m \u001b[0mblock\u001b[0m \u001b[0;34m=\u001b[0m \u001b[0mws\u001b[0m\u001b[0;34m.\u001b[0m\u001b[0mgetBlockCompoundAt\u001b[0m\u001b[0;34m(\u001b[0m\u001b[0;34m(\u001b[0m\u001b[0;36m39\u001b[0m\u001b[0;34m,\u001b[0m \u001b[0;36m0\u001b[0m\u001b[0;34m,\u001b[0m \u001b[0;34m-\u001b[0m\u001b[0;36m269\u001b[0m\u001b[0;34m)\u001b[0m\u001b[0;34m)\u001b[0m\u001b[0;34m\u001b[0m\u001b[0;34m\u001b[0m\u001b[0m\n\u001b[0m\u001b[1;32m      3\u001b[0m \u001b[0mprint\u001b[0m\u001b[0;34m(\u001b[0m\u001b[0mblock\u001b[0m\u001b[0;34m)\u001b[0m\u001b[0;34m\u001b[0m\u001b[0;34m\u001b[0m\u001b[0m\n\u001b[1;32m      4\u001b[0m \u001b[0mname\u001b[0m \u001b[0;34m=\u001b[0m \u001b[0mblock\u001b[0m\u001b[0;34m[\u001b[0m\u001b[0;34m\"Name\"\u001b[0m\u001b[0;34m]\u001b[0m\u001b[0;34m\u001b[0m\u001b[0;34m\u001b[0m\u001b[0m\n",
      "\u001b[0;32m~/Dropbox/Coding/GDMC/gdmc_interface/worldLoader.py\u001b[0m in \u001b[0;36mgetBlockCompoundAt\u001b[0;34m(self, blockPos)\u001b[0m\n\u001b[1;32m    135\u001b[0m         \u001b[0mchunkY\u001b[0m \u001b[0;34m=\u001b[0m \u001b[0mblockPos\u001b[0m\u001b[0;34m[\u001b[0m\u001b[0;36m1\u001b[0m\u001b[0;34m]\u001b[0m \u001b[0;34m>>\u001b[0m \u001b[0;36m4\u001b[0m\u001b[0;34m\u001b[0m\u001b[0;34m\u001b[0m\u001b[0m\n\u001b[1;32m    136\u001b[0m         \u001b[0;31m# bitarray = BitArray(bitsPerEntry, 16*16*16, blockStates) # TODO this needs to be 'cached' somewhere\u001b[0m\u001b[0;34m\u001b[0m\u001b[0;34m\u001b[0m\u001b[0;34m\u001b[0m\u001b[0m\n\u001b[0;32m--> 137\u001b[0;31m         \u001b[0mcachedSection\u001b[0m \u001b[0;34m=\u001b[0m \u001b[0mself\u001b[0m\u001b[0;34m.\u001b[0m\u001b[0msections\u001b[0m\u001b[0;34m[\u001b[0m\u001b[0mchunkX\u001b[0m\u001b[0;34m]\u001b[0m\u001b[0;34m[\u001b[0m\u001b[0mchunkZ\u001b[0m\u001b[0;34m]\u001b[0m\u001b[0;34m[\u001b[0m\u001b[0mchunkY\u001b[0m\u001b[0;34m]\u001b[0m\u001b[0;34m\u001b[0m\u001b[0;34m\u001b[0m\u001b[0m\n\u001b[0m\u001b[1;32m    138\u001b[0m \u001b[0;34m\u001b[0m\u001b[0m\n\u001b[1;32m    139\u001b[0m         \u001b[0;32mif\u001b[0m \u001b[0mcachedSection\u001b[0m \u001b[0;34m==\u001b[0m \u001b[0;32mNone\u001b[0m\u001b[0;34m:\u001b[0m\u001b[0;34m\u001b[0m\u001b[0;34m\u001b[0m\u001b[0m\n",
      "\u001b[0;31mIndexError\u001b[0m: list index out of range"
     ]
    }
   ],
   "source": [
    "# Get information about one block\n",
    "#block = ws.getBlockCompoundAt((39, 0, -269))\n",
    "print(block)\n",
    "name = block[\"Name\"]"
   ]
  },
  {
   "cell_type": "code",
   "execution_count": 99,
   "metadata": {},
   "outputs": [
    {
     "data": {
      "text/plain": [
       "'minecraft:air'"
      ]
     },
     "execution_count": 99,
     "metadata": {},
     "output_type": "execute_result"
    }
   ],
   "source": [
    "str(name)"
   ]
  },
  {
   "cell_type": "code",
   "execution_count": 112,
   "metadata": {},
   "outputs": [],
   "source": [
    "# ws.getBlockAt((x,y,z)) -- get name of block. Fall back into air if chunck not loaded\n",
    "# ws.getBlockCompoundAt((x,y,z)) -- get all info of block (NBT) in properties. Return None if chunk not loaded)\n",
    "\n",
    "blocks = {}\n",
    "NoneBlocks = []\n",
    "for x in range(buildarea[0],buildarea[0]+buildarea[2]):\n",
    "    for z in range(buildarea[1],buildarea[1]+buildarea[3]):\n",
    "        for y in range(0,255):\n",
    "            # b = ws.getBlockCompoundAt((x,y,z))\n",
    "            b = ws.getBlockAt((x,y,z))\n",
    "            if b:\n",
    "                # name = str(b[\"Name\"]) # properties of getBlockCompound are NBT\n",
    "                name = b\n",
    "            else:\n",
    "                name = \"None\" # Fully air chunks are not loaded. gBCA gives \"None\"\n",
    "                NoneBlocks.append((x,y,z))\n",
    "                break\n",
    "            if name in blocks.keys():\n",
    "                blocks[name] = blocks[name] + 1\n",
    "            else:\n",
    "                blocks[name] = 1"
   ]
  },
  {
   "cell_type": "code",
   "execution_count": 101,
   "metadata": {},
   "outputs": [
    {
     "data": {
      "text/plain": [
       "0"
      ]
     },
     "execution_count": 101,
     "metadata": {},
     "output_type": "execute_result"
    }
   ],
   "source": [
    "len(NoneBlocks)"
   ]
  },
  {
   "cell_type": "code",
   "execution_count": 113,
   "metadata": {},
   "outputs": [
    {
     "data": {
      "text/plain": [
       "{'minecraft:bedrock': 12271,\n",
       " 'minecraft:andesite': 5538,\n",
       " 'minecraft:diorite': 7216,\n",
       " 'minecraft:stone': 108788,\n",
       " 'minecraft:granite': 6086,\n",
       " 'minecraft:coal_ore': 1978,\n",
       " 'minecraft:gravel': 5508,\n",
       " 'minecraft:water': 101409,\n",
       " 'minecraft:air': 786432,\n",
       " 'minecraft:cave_air': 1552,\n",
       " 'minecraft:tall_seagrass': 798,\n",
       " 'minecraft:seagrass': 231,\n",
       " 'minecraft:redstone_ore': 510,\n",
       " 'minecraft:iron_ore': 1013,\n",
       " 'minecraft:kelp_plant': 1321,\n",
       " 'minecraft:kelp': 242,\n",
       " 'minecraft:lava': 1206,\n",
       " 'minecraft:dirt': 2077,\n",
       " 'minecraft:gold_ore': 170,\n",
       " 'minecraft:diamond_ore': 35,\n",
       " 'minecraft:lapis_ore': 59,\n",
       " 'minecraft:sand': 14,\n",
       " 'minecraft:obsidian': 19,\n",
       " 'minecraft:magma_block': 7}"
      ]
     },
     "execution_count": 113,
     "metadata": {},
     "output_type": "execute_result"
    }
   ],
   "source": [
    "blocks"
   ]
  },
  {
   "cell_type": "code",
   "execution_count": 105,
   "metadata": {},
   "outputs": [],
   "source": [
    "#heightmaps\n",
    "import mapUtils"
   ]
  },
  {
   "cell_type": "code",
   "execution_count": 116,
   "metadata": {},
   "outputs": [],
   "source": [
    "heightmap = ws.heightmaps[\"OCEAN_FLOOR\"]"
   ]
  },
  {
   "cell_type": "code",
   "execution_count": 117,
   "metadata": {},
   "outputs": [
    {
     "data": {
      "image/png": "[encoded data removed]",
      "text/plain": [
       "<Figure size 432x288 with 1 Axes>"
      ]
     },
     "metadata": {
      "needs_background": "light"
     },
     "output_type": "display_data"
    }
   ],
   "source": [
    "mapUtils.visualize(heightmap)"
   ]
  },
  {
   "cell_type": "code",
   "execution_count": 120,
   "metadata": {},
   "outputs": [],
   "source": [
    "#visualize map\n",
    "import cv2\n",
    "import matplotlib.pyplot as plt\n",
    "import numpy as np\n",
    "import blockColors\n",
    "\n",
    "heightmap = ws.heightmaps[\"MOTION_BLOCKING\"]\n",
    "\n",
    "hm = np.array(heightmap, dtype=np.uint8)\n",
    "gradientX = cv2.Scharr(hm, cv2.CV_16S, 1, 0)\n",
    "gradientY = cv2.Scharr(hm, cv2.CV_16S, 0, 1)\n",
    "\n",
    "# This should be pre-calculated...\n",
    "palette = {}\n",
    "for hex, blocks in blockColors.PALETTE.items():\n",
    "    for block in blocks:\n",
    "        palette[block] = hex\n",
    "        \n",
    "        \n",
    "# create a 2d map containing the surface block colors\n",
    "topcolor = np.zeros((buildarea[2], buildarea[3]), dtype='int')\n",
    "unknownBlocks = set()\n",
    "\n",
    "for dx in range(buildarea[2]):\n",
    "        for dz in range(buildarea[3]):\n",
    "            # check up to 5 blocks below the heightmap\n",
    "            for dy in range(5):\n",
    "                # calculate absolute coordinates\n",
    "                x = buildarea[0] + dx\n",
    "                z = buildarea[1] + dz\n",
    "                y = int(hm[(dx, dz)]) - dy\n",
    "\n",
    "                blockID = ws.getBlockAt((x, y, z))\n",
    "                if blockID in blockColors.TRANSPARENT:\n",
    "                    # transparent blocks are ignored\n",
    "                    continue\n",
    "                else:\n",
    "                    if blockID not in palette:\n",
    "                        # unknown blocks remembered for debug purposes\n",
    "                        unknownBlocks.add(blockID)\n",
    "                    else:\n",
    "                        topcolor[(dx, dz)] = palette[blockID]\n",
    "                    break"
   ]
  },
  {
   "cell_type": "code",
   "execution_count": 121,
   "metadata": {},
   "outputs": [
    {
     "data": {
      "image/png": "[encoded data removed]",
      "text/plain": [
       "<Figure size 432x288 with 1 Axes>"
      ]
     },
     "metadata": {
      "needs_background": "light"
     },
     "output_type": "display_data"
    }
   ],
   "source": [
    "# separate the color map into three separate color channels\n",
    "topcolor = cv2.merge(((topcolor) & 0xff, (topcolor >> 8)\n",
    "                      & 0xff, (topcolor >> 16) & 0xff))\n",
    "\n",
    "# calculate a brightness value from the gradient\n",
    "brightness = np.expand_dims((gradientX + gradientY).astype(\"int\"), 2)\n",
    "brightness = brightness.clip(-64, 64)\n",
    "\n",
    "topcolor += brightness\n",
    "topcolor = topcolor.clip(0, 255)\n",
    "\n",
    "# display the map\n",
    "topcolor = topcolor.astype('uint8')\n",
    "topcolor = np.transpose(topcolor, (1, 0, 2))\n",
    "plt_image = cv2.cvtColor(topcolor, cv2.COLOR_BGR2RGB)\n",
    "\n",
    "plt.imshow(plt_image)\n",
    "plt.show()"
   ]
  }
 ],
 "metadata": {
  "kernelspec": {
   "display_name": "Python 3",
   "language": "python",
   "name": "python3"
  },
  "language_info": {
   "codemirror_mode": {
    "name": "ipython",
    "version": 3
   },
   "file_extension": ".py",
   "mimetype": "text/x-python",
   "name": "python",
   "nbconvert_exporter": "python",
   "pygments_lexer": "ipython3",
   "version": "3.8.5"
  }
 },
 "nbformat": 4,
 "nbformat_minor": 4
}
